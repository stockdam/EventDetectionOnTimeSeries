{
 "cells": [
  {
   "cell_type": "markdown",
   "metadata": {},
   "source": [
    "# Event Detection on Time Series\n",
    "\n",
    "Welcome! This project is focused in giving insights on the problematic of Event Detection on Time Series. A method has been developed for this purpose and can be found in the following link:...when paper x).\n",
    "\n",
    "The problem of event detection in time series has many aspects to be considered, namely:\n",
    "\n",
    "1) How to define what an event is?\n",
    "\n",
    "2) How to define its relevance?\n",
    "\n",
    "3) What is the time scale of the search space?\n",
    "\n",
    "4) In which signals are we searching for events, if in a multidimensional problem?\n",
    "\n",
    "In this project, we defined an **event** as being **a relevant change in any characteristics of the time series**. This process is inspired in the mechanisms of *Music Information Retrieval*, where novelty functions are computed to detect specific events and segments of the audio series. This novelty function can be computed from specific features, or a global set of features, by means of a Self-Similarity Matrix (SSM). The process for event detection follows similar steps, which are explained in this series of jupyter notebooks. The process involves the following steps:\n",
    "\n",
    "**A) [Feature Extraction](2.FeatureExtraction.ipynb)**\n",
    "\n",
    "**B) [Compute Self-Similarity Matrix](3.SSM.ipynb)**\n",
    "\n",
    "**C) [Compute Novelty Function](4.EventFunction.ipynb)**\n",
    "\n",
    "**D) [Detect Peaks of the Novelty Function](4.EventFunction.ipynb)**\n"
   ]
  },
  {
   "cell_type": "markdown",
   "metadata": {},
   "source": [
    "In this notebook, you will find an introduction to the problematic of Event Detection, with examples of time series and relevant events that can be considered, based on the definition presented. This notebook will also show you which are the dimensions of the search space, in multiscale and multisignal scenarios, with examples. \n",
    "\n",
    "-> Pretendemos mostrar as dimensoes da deteccao de eventos e como utilizar um processo de analise das caracteristicas do sinal para chegar a deteccao de momentos relevantes no sinal, associado com mudancas nas caracteristicas, e nao momentos pontuais relevantes, como picos.\n"
   ]
  },
  {
   "cell_type": "markdown",
   "metadata": {},
   "source": [
    "# Relevance of an Event\n",
    "\n",
    "What turns an event relevant? There are several possibilities. When a change on a time series occurs, it will be represented as a change in one or more features of the time series. When the change is significant, it would be recognized with a high change in amplitude in the novelty function. The higher the amplitude of the change, the more relevant it is. However, the change in amplitude of the novelty function is not the only way of assigning relevance to an event. When events are periodic, or when an event occurs in a group of events that also has a periodic occurence, it is a measure of relevance. Besides, events that are associated with patterns or anomalies, also can be considered relevant. Therefore, there are several measures of relevance that apply to an event: (1) amplitude; (2) periodicity; (3) belong to group of events; (4) pattern related; (5) anomaly related. \n",
    "\n",
    "Based on the aforementioned content, the search of events should not be limited to the identification of peaks on the novelty function, but also to search for repeating subsequences of the time series, as well as anomalies. Although some of these events might be visible on the novelty function, others might be hidden on the SSM built with the features extracted.\n",
    "\n",
    "**(SHOULD ADD A FIGURE WITH VISUAL EXAMPLES OF WHAT I AM MENTIONING, OR JUST A REPRESENTATION OF IT)**"
   ]
  },
  {
   "cell_type": "markdown",
   "metadata": {},
   "source": [
    "# Event Search Dimensions\n",
    "\n",
    "An event can be detected considering small time variations (high frequnecy), while other events can only be relevant in larger time changes (low frequency). For instance, taking as an example the *ECG* signal, small changes in the signal can be used to identify the segments of the PQRS complex, while in a larger time scale, the rate at which the PQRS complex appears changes. Both changes can be relevant, but can only be identified in different time scales. Additionally to the time scale dimension, events can occur in different signals at the same or different times. The process to detect events can occur individually in each time series, but also considering all time series from the same acquisition session. \n"
   ]
  },
  {
   "cell_type": "markdown",
   "metadata": {},
   "source": [
    "## Multiscale Dimension\n",
    "\n",
    "The time scale dimension specifies the resolution at which we are searching for events. When looking at a picture from far away, we can identify global shapes of the picture, which reveal broader areas of interest. When getting closer to the same picture, other shapes, traits and details will appear, focusing our attention to smaller areas of the picture. The areas of interest are the event on the time series, and this multiscale process can also be verified. In fact, when looking at a long time series from far away (zoomed out), we are able to find global shapes or trends on the signal, which are events. However, while zooming in, other details appear and come into sight, while also loosing sight of the previous events we were able to identify.\n",
    "\n",
    "This description can help in defining a methodology that searches for an overall set of events in a multiscale approach. This process would be top-to-bottom, searching first in broader areas of interest of the signal, and then searching for events in a segment of the broader scale.\n",
    "\n"
   ]
  },
  {
   "cell_type": "markdown",
   "metadata": {},
   "source": [
    "## Multisignal Dimension\n",
    "\n",
    "The acquisition of data for the recognition of a specific activity may require the acquisition of more or less types of information. For instance, some cases require a single sensor, which acquires only one signal, whereas in other cases more types of data can be necessary. In these cases, more sensors might be used, more signals are acquired, leading to misalignements of information or differences in activation areas. In the case of event detection, the process of using multiple signals to retrieve information has several nuances. If searching for events individually in each signal, some events might not be present in all signals, or events may occur in different signals but with a delay. Therefore, the process for identifying events in a multisignals approach may vary.\n",
    "\n",
    "When searching for cyclic information, all the time series may have it, but when searching for generic events on the signal, some might have it or not, or having it, it is delayed. In the first case, when building the SSM with the information of all signals, the cyclic information will be there and adding the information of all data may be benefitial, unless the cyclic information is not there, or not as evident as in other cases. In the latter case, the process might involve analysing signals individually, and putting togheter all the information."
   ]
  },
  {
   "cell_type": "markdown",
   "metadata": {},
   "source": [
    "**SHOULD HAVE A FIGURE WITH ALL THE TYPES OF EVENTS AND SEARCH METHODOLOGIES**"
   ]
  },
  {
   "cell_type": "markdown",
   "metadata": {},
   "source": [
    "# Search Interaction\n",
    "\n",
    "The search process may require more or less information from the user. The interactivity may be made by having a user interface, enabling the user to select parts of the signal as reference, or identifying the location of an event as a reference. The interaction can also be made by coding, giving hints about the search, such as the number of events, or a pattern of events. All this can be a way of reducing the search space, and improving the quality of the results. In this section of the notebook, a brief discussion about the ways a user can interact and make search of events in time series will be made.\n",
    "\n",
    "\n",
    "\n",
    "Event Search by query:\n",
    "\n",
    "1) Example of event\n",
    "\n",
    "2) Example of pattern associated with the event\n",
    "\n",
    "3) written pattern of events\n",
    "\n",
    "Event search by thresholding\n",
    "\n",
    "Event search by hints: events associated with changes in frequency, in amplitude or in time. \n",
    "\n",
    "The concept of human in the loop is very relevant nowadays, and methods that include this type of mechanisms should be available. The event search procedure should include human-in-the-loop mechanisms. For this, machine learning strategies should be developed to improve results based on the interaction with the user. The methodology should give a result, so that the user can edit the results if needed, and the methodology should then adapt the results based on the change made. \n",
    "\n",
    "In this series of notebooks, a simple interface will be developed with Dash for the annotation of events, and give this interactivity."
   ]
  },
  {
   "cell_type": "code",
   "execution_count": null,
   "metadata": {},
   "outputs": [],
   "source": []
  }
 ],
 "metadata": {
  "kernelspec": {
   "display_name": "Python 3",
   "language": "python",
   "name": "python3"
  },
  "language_info": {
   "codemirror_mode": {
    "name": "ipython",
    "version": 3
   },
   "file_extension": ".py",
   "mimetype": "text/x-python",
   "name": "python",
   "nbconvert_exporter": "python",
   "pygments_lexer": "ipython3",
   "version": "3.7.4"
  },
  "latex_envs": {
   "LaTeX_envs_menu_present": true,
   "autoclose": false,
   "autocomplete": true,
   "bibliofile": "biblio.bib",
   "cite_by": "apalike",
   "current_citInitial": 1,
   "eqLabelWithNumbers": true,
   "eqNumInitial": 1,
   "hotkeys": {
    "equation": "Ctrl-E",
    "itemize": "Ctrl-I"
   },
   "labels_anchors": false,
   "latex_user_defs": false,
   "report_style_numbering": false,
   "user_envs_cfg": false
  },
  "toc": {
   "base_numbering": 1,
   "nav_menu": {},
   "number_sections": true,
   "sideBar": true,
   "skip_h1_title": false,
   "title_cell": "Table of Contents",
   "title_sidebar": "Contents",
   "toc_cell": false,
   "toc_position": {},
   "toc_section_display": true,
   "toc_window_display": false
  }
 },
 "nbformat": 4,
 "nbformat_minor": 2
}
